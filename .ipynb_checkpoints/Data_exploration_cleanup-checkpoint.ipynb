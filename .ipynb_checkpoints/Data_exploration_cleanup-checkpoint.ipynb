{
 "cells": [
  {
   "cell_type": "markdown",
   "id": "b63dc974",
   "metadata": {},
   "source": [
    "# **Data Exploration** "
   ]
  },
  {
   "cell_type": "markdown",
   "id": "99c7ebbd",
   "metadata": {},
   "source": [
    "Our sample of data  is from a Portuguese banking institution. In our data set we have information on each customer's educational status, marital status, job, whether they have a housing loan or a personal loan, if they default on thier credit. It also includes contact frequency information regarding when they were contacted by the bank such as their last contact day and month, how they were contacted, how long did their contact last(in seconds), as well as the amount of days that have passed since their last contact.\n",
    "\n",
    "To explore the data **df.corr()** was used to see the correlation coefficients of each of the columns. We found that almost all columns, with the exception of Previous (the number of contacts before this specific campaign) and Pdays (the number of days that have passed since the last contact) with a r value of -0.590070, were weak.\n",
    "\n"
   ]
  },
  {
   "cell_type": "markdown",
   "id": "573f0f4e",
   "metadata": {},
   "source": [
    "# **Data Cleanup**"
   ]
  },
  {
   "cell_type": "markdown",
   "id": "a05b8d65",
   "metadata": {},
   "source": [
    "To clean our dataset we took out the \"unkown\" data from our columns. The columns that contained an \"unknown\" were: job, marital, education, default, housing, and loan. This brought the dataset from 32950 rows to 24305. \n",
    "We cleaned our dataset but excluding the unknowns in statements such as:\n",
    "\n",
    "**uRows = bankdf.loc[bankdf['job'] != 'unknown']**\n",
    "\n",
    "This way we didn't remove any rows from our original dataset but instead made new a dataframe to contain the informaiton we wanted."
   ]
  }
 ],
 "metadata": {
  "kernelspec": {
   "display_name": "Python 3",
   "language": "python",
   "name": "python3"
  },
  "language_info": {
   "codemirror_mode": {
    "name": "ipython",
    "version": 3
   },
   "file_extension": ".py",
   "mimetype": "text/x-python",
   "name": "python",
   "nbconvert_exporter": "python",
   "pygments_lexer": "ipython3",
   "version": "3.8.8"
  }
 },
 "nbformat": 4,
 "nbformat_minor": 5
}
