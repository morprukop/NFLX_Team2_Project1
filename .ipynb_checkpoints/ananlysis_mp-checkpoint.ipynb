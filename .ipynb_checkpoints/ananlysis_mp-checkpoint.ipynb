{
 "cells": [
  {
   "cell_type": "code",
   "execution_count": 21,
   "id": "87669cec",
   "metadata": {},
   "outputs": [],
   "source": [
    "import pandas as pd\n",
    "import matplotlib.pyplot as plt\n",
    "import numpy as np\n",
    "from statsmodels.stats.proportion import proportions_ztest\n",
    "import scipy.stats as sts\n",
    "import statsmodels.api as sm\n",
    "from statsmodels.stats.proportion import proportion_confint "
   ]
  },
  {
   "cell_type": "code",
   "execution_count": 68,
   "id": "21f71c38",
   "metadata": {},
   "outputs": [],
   "source": [
    "bankdf = pd.read_csv(\"new_train.csv\")"
   ]
  },
  {
   "cell_type": "code",
   "execution_count": 71,
   "id": "4f593855",
   "metadata": {},
   "outputs": [
    {
     "data": {
      "text/html": [
       "<div>\n",
       "<style scoped>\n",
       "    .dataframe tbody tr th:only-of-type {\n",
       "        vertical-align: middle;\n",
       "    }\n",
       "\n",
       "    .dataframe tbody tr th {\n",
       "        vertical-align: top;\n",
       "    }\n",
       "\n",
       "    .dataframe thead th {\n",
       "        text-align: right;\n",
       "    }\n",
       "</style>\n",
       "<table border=\"1\" class=\"dataframe\">\n",
       "  <thead>\n",
       "    <tr style=\"text-align: right;\">\n",
       "      <th></th>\n",
       "      <th>age</th>\n",
       "      <th>job</th>\n",
       "      <th>marital</th>\n",
       "      <th>education</th>\n",
       "      <th>default</th>\n",
       "      <th>housing</th>\n",
       "      <th>loan</th>\n",
       "      <th>contact</th>\n",
       "      <th>month</th>\n",
       "      <th>day_of_week</th>\n",
       "      <th>duration</th>\n",
       "      <th>campaign</th>\n",
       "      <th>pdays</th>\n",
       "      <th>previous</th>\n",
       "      <th>poutcome</th>\n",
       "      <th>y</th>\n",
       "    </tr>\n",
       "  </thead>\n",
       "  <tbody>\n",
       "    <tr>\n",
       "      <th>1</th>\n",
       "      <td>37</td>\n",
       "      <td>entrepreneur</td>\n",
       "      <td>married</td>\n",
       "      <td>university.degree</td>\n",
       "      <td>no</td>\n",
       "      <td>no</td>\n",
       "      <td>no</td>\n",
       "      <td>telephone</td>\n",
       "      <td>nov</td>\n",
       "      <td>wed</td>\n",
       "      <td>202</td>\n",
       "      <td>2</td>\n",
       "      <td>999</td>\n",
       "      <td>1</td>\n",
       "      <td>failure</td>\n",
       "      <td>no</td>\n",
       "    </tr>\n",
       "    <tr>\n",
       "      <th>2</th>\n",
       "      <td>78</td>\n",
       "      <td>retired</td>\n",
       "      <td>married</td>\n",
       "      <td>basic.4y</td>\n",
       "      <td>no</td>\n",
       "      <td>no</td>\n",
       "      <td>no</td>\n",
       "      <td>cellular</td>\n",
       "      <td>jul</td>\n",
       "      <td>mon</td>\n",
       "      <td>1148</td>\n",
       "      <td>1</td>\n",
       "      <td>999</td>\n",
       "      <td>0</td>\n",
       "      <td>nonexistent</td>\n",
       "      <td>yes</td>\n",
       "    </tr>\n",
       "    <tr>\n",
       "      <th>3</th>\n",
       "      <td>36</td>\n",
       "      <td>admin.</td>\n",
       "      <td>married</td>\n",
       "      <td>university.degree</td>\n",
       "      <td>no</td>\n",
       "      <td>yes</td>\n",
       "      <td>no</td>\n",
       "      <td>telephone</td>\n",
       "      <td>may</td>\n",
       "      <td>mon</td>\n",
       "      <td>120</td>\n",
       "      <td>2</td>\n",
       "      <td>999</td>\n",
       "      <td>0</td>\n",
       "      <td>nonexistent</td>\n",
       "      <td>no</td>\n",
       "    </tr>\n",
       "    <tr>\n",
       "      <th>4</th>\n",
       "      <td>59</td>\n",
       "      <td>retired</td>\n",
       "      <td>divorced</td>\n",
       "      <td>university.degree</td>\n",
       "      <td>no</td>\n",
       "      <td>no</td>\n",
       "      <td>no</td>\n",
       "      <td>cellular</td>\n",
       "      <td>jun</td>\n",
       "      <td>tue</td>\n",
       "      <td>368</td>\n",
       "      <td>2</td>\n",
       "      <td>999</td>\n",
       "      <td>0</td>\n",
       "      <td>nonexistent</td>\n",
       "      <td>no</td>\n",
       "    </tr>\n",
       "    <tr>\n",
       "      <th>5</th>\n",
       "      <td>29</td>\n",
       "      <td>admin.</td>\n",
       "      <td>single</td>\n",
       "      <td>university.degree</td>\n",
       "      <td>no</td>\n",
       "      <td>no</td>\n",
       "      <td>no</td>\n",
       "      <td>cellular</td>\n",
       "      <td>aug</td>\n",
       "      <td>wed</td>\n",
       "      <td>256</td>\n",
       "      <td>2</td>\n",
       "      <td>999</td>\n",
       "      <td>0</td>\n",
       "      <td>nonexistent</td>\n",
       "      <td>no</td>\n",
       "    </tr>\n",
       "  </tbody>\n",
       "</table>\n",
       "</div>"
      ],
      "text/plain": [
       "   age           job   marital          education default housing loan  \\\n",
       "1   37  entrepreneur   married  university.degree      no      no   no   \n",
       "2   78       retired   married           basic.4y      no      no   no   \n",
       "3   36        admin.   married  university.degree      no     yes   no   \n",
       "4   59       retired  divorced  university.degree      no      no   no   \n",
       "5   29        admin.    single  university.degree      no      no   no   \n",
       "\n",
       "     contact month day_of_week  duration  campaign  pdays  previous  \\\n",
       "1  telephone   nov         wed       202         2    999         1   \n",
       "2   cellular   jul         mon      1148         1    999         0   \n",
       "3  telephone   may         mon       120         2    999         0   \n",
       "4   cellular   jun         tue       368         2    999         0   \n",
       "5   cellular   aug         wed       256         2    999         0   \n",
       "\n",
       "      poutcome    y  \n",
       "1      failure   no  \n",
       "2  nonexistent  yes  \n",
       "3  nonexistent   no  \n",
       "4  nonexistent   no  \n",
       "5  nonexistent   no  "
      ]
     },
     "execution_count": 71,
     "metadata": {},
     "output_type": "execute_result"
    }
   ],
   "source": [
    "uRows = bankdf.loc[bankdf['job'] != 'unknown']\n",
    "uRows1 = uRows.loc[uRows['marital'] != 'unknown']\n",
    "uRows2 = uRows1.loc[uRows1['education'] != 'unknown']\n",
    "uRows3 = uRows2.loc[uRows2['default'] != 'unknown']\n",
    "uRows4 = uRows3.loc[uRows3['housing'] != 'unknown']\n",
    "cleandf = uRows4.loc[uRows4['loan']   != 'unknown']\n",
    "cleandf.head()"
   ]
  },
  {
   "cell_type": "code",
   "execution_count": 72,
   "id": "7d898d2f",
   "metadata": {
    "scrolled": true
   },
   "outputs": [
    {
     "data": {
      "text/html": [
       "<div>\n",
       "<style scoped>\n",
       "    .dataframe tbody tr th:only-of-type {\n",
       "        vertical-align: middle;\n",
       "    }\n",
       "\n",
       "    .dataframe tbody tr th {\n",
       "        vertical-align: top;\n",
       "    }\n",
       "\n",
       "    .dataframe thead th {\n",
       "        text-align: right;\n",
       "    }\n",
       "</style>\n",
       "<table border=\"1\" class=\"dataframe\">\n",
       "  <thead>\n",
       "    <tr style=\"text-align: right;\">\n",
       "      <th></th>\n",
       "      <th>age</th>\n",
       "      <th>duration</th>\n",
       "      <th>campaign</th>\n",
       "      <th>pdays</th>\n",
       "      <th>previous</th>\n",
       "    </tr>\n",
       "  </thead>\n",
       "  <tbody>\n",
       "    <tr>\n",
       "      <th>age</th>\n",
       "      <td>1.000000</td>\n",
       "      <td>0.005710</td>\n",
       "      <td>-0.003322</td>\n",
       "      <td>-0.051352</td>\n",
       "      <td>0.048255</td>\n",
       "    </tr>\n",
       "    <tr>\n",
       "      <th>duration</th>\n",
       "      <td>0.005710</td>\n",
       "      <td>1.000000</td>\n",
       "      <td>-0.072338</td>\n",
       "      <td>-0.045806</td>\n",
       "      <td>0.020937</td>\n",
       "    </tr>\n",
       "    <tr>\n",
       "      <th>campaign</th>\n",
       "      <td>-0.003322</td>\n",
       "      <td>-0.072338</td>\n",
       "      <td>1.000000</td>\n",
       "      <td>0.054767</td>\n",
       "      <td>-0.079834</td>\n",
       "    </tr>\n",
       "    <tr>\n",
       "      <th>pdays</th>\n",
       "      <td>-0.051352</td>\n",
       "      <td>-0.045806</td>\n",
       "      <td>0.054767</td>\n",
       "      <td>1.000000</td>\n",
       "      <td>-0.590070</td>\n",
       "    </tr>\n",
       "    <tr>\n",
       "      <th>previous</th>\n",
       "      <td>0.048255</td>\n",
       "      <td>0.020937</td>\n",
       "      <td>-0.079834</td>\n",
       "      <td>-0.590070</td>\n",
       "      <td>1.000000</td>\n",
       "    </tr>\n",
       "  </tbody>\n",
       "</table>\n",
       "</div>"
      ],
      "text/plain": [
       "               age  duration  campaign     pdays  previous\n",
       "age       1.000000  0.005710 -0.003322 -0.051352  0.048255\n",
       "duration  0.005710  1.000000 -0.072338 -0.045806  0.020937\n",
       "campaign -0.003322 -0.072338  1.000000  0.054767 -0.079834\n",
       "pdays    -0.051352 -0.045806  0.054767  1.000000 -0.590070\n",
       "previous  0.048255  0.020937 -0.079834 -0.590070  1.000000"
      ]
     },
     "execution_count": 72,
     "metadata": {},
     "output_type": "execute_result"
    }
   ],
   "source": [
    "cleandf.corr()"
   ]
  },
  {
   "cell_type": "code",
   "execution_count": 73,
   "id": "404a19e6",
   "metadata": {},
   "outputs": [],
   "source": [
    "married = cleandf[cleandf[\"marital\"] == \"married\"]\n",
    "divorced_widowed = cleandf[cleandf[\"marital\"] == \"divorced\"]\n",
    "single = cleandf[cleandf[\"marital\"] == \"single\"]\n",
    "\n",
    "married_home = married[married[\"housing\"] == \"yes\"]\n",
    "divorced_widowed_home = divorced_widowed[divorced_widowed[\"housing\"] == \"yes\"]\n",
    "single_home = single[single[\"housing\"] == \"yes\"]\n",
    "\n",
    "married_nohome = married[married[\"housing\"] == \"no\"]\n",
    "divorced_widowed_nohome = divorced_widowed[divorced_widowed[\"housing\"] == \"no\"]\n",
    "single_nohome = single[single[\"housing\"] == \"no\"]"
   ]
  },
  {
   "cell_type": "code",
   "execution_count": 74,
   "id": "cc768c67",
   "metadata": {},
   "outputs": [],
   "source": [
    "p_single_homes = len(single_home) / len(single)\n",
    "\n",
    "married_and_divorced = len(married) + len(divorced_widowed)\n",
    "married_and_divorced_home = len(married_home) + len(divorced_widowed_home)\n",
    "married_and_divorced_nohome = len(married_nohome) + len(divorced_widowed_nohome)\n",
    "\n",
    "p_married_divorced_homes = (len(married_home) + len(divorced_widowed_home))/married_and_divorced"
   ]
  },
  {
   "cell_type": "code",
   "execution_count": 75,
   "id": "30d810c6",
   "metadata": {},
   "outputs": [
    {
     "data": {
      "image/png": "[encoded data removed]",
      "text/plain": [
       "<Figure size 432x288 with 1 Axes>"
      ]
     },
     "metadata": {
      "needs_background": "light"
     },
     "output_type": "display_data"
    }
   ],
   "source": [
    "labels = [\"Currently/been Married\", \"Single\"]\n",
    "\n",
    "home_info =[married_and_divorced_home, len(single_home)]\n",
    "nohome_info = [married_and_divorced_nohome, len(single_nohome)]\n",
    "\n",
    "x = np.arange(len(labels))  # the label locations\n",
    "width = 0.35  # the width of the bars\n",
    "\n",
    "fig, ax = plt.subplots()\n",
    "rects1 = ax.bar(x - width/2, home_info, width, label='yes')\n",
    "rects2 = ax.bar(x + width/2, nohome_info, width, label='no')\n",
    "\n",
    "\n",
    "# text for labels, title and custom x-axis tick labels, etc.\n",
    "ax.set_ylabel('Count')\n",
    "ax.set_title('Home loan by Marital Status')\n",
    "ax.set_xticks(x)\n",
    "ax.set_xticklabels(labels)\n",
    "ax.legend()\n",
    "\n",
    "fig.tight_layout()\n",
    "\n",
    "plt.show()"
   ]
  },
  {
   "cell_type": "markdown",
   "id": "352899b5",
   "metadata": {},
   "source": [
    "# **_Does being married or have been married affect whether or not the individual has a home loan?_**\n"
   ]
  },
  {
   "cell_type": "markdown",
   "id": "2666f6de",
   "metadata": {},
   "source": [
    "# Confidence Intervals"
   ]
  },
  {
   "cell_type": "code",
   "execution_count": 77,
   "id": "7e7b6ba6",
   "metadata": {},
   "outputs": [
    {
     "name": "stdout",
     "output_type": "stream",
     "text": [
      "(0.529535433685174, 0.5446336694832729)\n"
     ]
    }
   ],
   "source": [
    "CI_married = proportion_confint(count=married_and_divorced_home,    # Number of \"successes\"\n",
    "                   nobs=married_and_divorced,    # Number of trials\n",
    "                   alpha=(1 - 0.95))\n",
    "# Alpha, which is 1 minus the confidence level\n",
    "print(CI_married)"
   ]
  },
  {
   "cell_type": "code",
   "execution_count": 78,
   "id": "2c1c0545",
   "metadata": {},
   "outputs": [
    {
     "name": "stdout",
     "output_type": "stream",
     "text": [
      "(0.5417904793014072, 0.5642259532456375)\n"
     ]
    }
   ],
   "source": [
    "CI_single = proportion_confint(count= len(single_home),    # Number of \"successes\"\n",
    "                   nobs=len(single),    # Number of trials\n",
    "                   alpha=(1 - 0.95))\n",
    "# Alpha, which is 1 minus the confidence level\n",
    "print(CI_single)"
   ]
  },
  {
   "cell_type": "code",
   "execution_count": 79,
   "id": "ec4bc31f",
   "metadata": {},
   "outputs": [
    {
     "data": {
      "text/plain": [
       "([<matplotlib.axis.YTick at 0x202237c5970>,\n",
       "  <matplotlib.axis.YTick at 0x202237c58b0>],\n",
       " [Text(0, 0, 'Currently/been married'), Text(0, 1, 'Single')])"
      ]
     },
     "execution_count": 79,
     "metadata": {},
     "output_type": "execute_result"
    },
    {
     "data": {
      "image/png": "[encoded data removed]",
      "text/plain": [
       "<Figure size 432x288 with 1 Axes>"
      ]
     },
     "metadata": {
      "needs_background": "light"
     },
     "output_type": "display_data"
    }
   ],
   "source": [
    "data_dict = {}\n",
    "data_dict['category'] = ['Currently/been married','Single']\n",
    "data_dict['lower'] = [CI_married[0],CI_single[0]]\n",
    "data_dict['upper'] = [CI_married[-1],CI_single[-1]]\n",
    "dataset = pd.DataFrame(data_dict)\n",
    "\n",
    "for lower,upper,y in zip(dataset['lower'],dataset['upper'],range(len(dataset))):\n",
    "    plt.plot((lower,upper),(y,y),'ro-',color='orange')\n",
    "plt.yticks(range(len(dataset)),list(dataset['category']))"
   ]
  },
  {
   "cell_type": "markdown",
   "id": "36cc8f01",
   "metadata": {},
   "source": [
    "This graph displays the confidence intervals which we believe will contain the true population proportion of those who are currently/been married and have a home loan and of those who are single and have a home loan. The two CIs overlap telling that there is a possibility that the two population proportions could be the same. "
   ]
  },
  {
   "cell_type": "markdown",
   "id": "35b0fba2",
   "metadata": {},
   "source": [
    "# 2 Sample Z-Test for Proportions"
   ]
  },
  {
   "cell_type": "markdown",
   "id": "0bd7cbdd",
   "metadata": {},
   "source": [
    "**Our two samples:**\n",
    "\n",
    "    sample_md - Married and Divorced/Widowed (currently/been married)\n",
    "    sample_s - Single\n",
    "    \n",
    "### Our null hypothesis is that the proportion of currently/been married population who has a house loan is equal to the proportion of the Single population who has a house loan\n",
    "\n",
    "### Our alternate is that the proportion of currently/been married population who has a house loan is greater than the proportion of the Single population who has a house loan\n",
    "\n",
    "### Null hypothesis: P1 = P2\n",
    "\n",
    "### Alternative hypothesis: P1 > P2"
   ]
  },
  {
   "cell_type": "code",
   "execution_count": 76,
   "id": "4ff5f6f9",
   "metadata": {},
   "outputs": [
    {
     "name": "stdout",
     "output_type": "stream",
     "text": [
      "\n",
      "z_stat: -2.305, p_value: 0.021, sig_level: 0.050\n",
      "\n",
      "Reject the null hypothesis - suggest the alternative hypothesis is true\n",
      "\n",
      "currently/been married with housing loan proportion:  0.5370845515842234\n",
      "single with housing loan proportion:  0.5530082162735224 \n",
      "\n"
     ]
    }
   ],
   "source": [
    "#condition checking for proportion test\n",
    "# np1  = p_single_homes * len(single)\n",
    "# print(np)\n",
    "# np2  = p_married_divorced_homes * married_and_divorced\n",
    "# print(np1)\n",
    "# print(np2)\n",
    "\n",
    "# following code found off https://sonalake.com/latest/hypothesis-testing-of-proportion-based-samples/ ** has been modified\n",
    "\n",
    "significance = 0.05\n",
    "\n",
    "sample_success_md, sample_size_md = (married_and_divorced_home, married_and_divorced)\n",
    "sample_success_s, sample_size_s = (len(single_home), len(single))\n",
    "\n",
    "successes = np.array([sample_success_md, sample_success_s])\n",
    "samples = np.array([sample_size_md, sample_size_s])\n",
    "\n",
    "stat, p_value = proportions_ztest(count=successes, nobs=samples,  alternative='two-sided')\n",
    "\n",
    "print('\\nz_stat: %0.3f, p_value: %0.3f, sig_level: %0.3f' % (stat, p_value,significance))\n",
    "if p_value > significance:\n",
    "   print (\"\\nFail to reject the null hypothesis - we have nothing else to say\")\n",
    "else:\n",
    "   print (\"\\nReject the null hypothesis - suggest the alternative hypothesis is true\")\n",
    "\n",
    "print(\"\\ncurrently/been married with housing loan proportion: \", p_married_divorced_homes)\n",
    "print(\"single with housing loan proportion: \", p_single_homes, \"\\n\")"
   ]
  },
  {
   "cell_type": "markdown",
   "id": "cd5a386e",
   "metadata": {},
   "source": [
    "By completing a two sample z test for proportions on our samples of currently/been married and single poeple we get the p value of 0.021 which is less than our significance level of 0.05. This tells us to reject the null hypothesis in favor of the alternate. This tells us that "
   ]
  }
 ],
 "metadata": {
  "kernelspec": {
   "display_name": "Python 3",
   "language": "python",
   "name": "python3"
  },
  "language_info": {
   "codemirror_mode": {
    "name": "ipython",
    "version": 3
   },
   "file_extension": ".py",
   "mimetype": "text/x-python",
   "name": "python",
   "nbconvert_exporter": "python",
   "pygments_lexer": "ipython3",
   "version": "3.8.8"
  }
 },
 "nbformat": 4,
 "nbformat_minor": 5
}
